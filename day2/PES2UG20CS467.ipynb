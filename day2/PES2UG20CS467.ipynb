{
  "cells": [
    {
      "cell_type": "code",
      "execution_count": 1,
      "metadata": {
        "colab": {
          "base_uri": "https://localhost:8080/"
        },
        "id": "IbD_pLqfNlRi",
        "outputId": "2c902185-f63c-4b7a-e090-004fe6e3c709"
      },
      "outputs": [
        {
          "output_type": "execute_result",
          "data": {
            "text/plain": [
              "['I', 'love', 'lytchee']"
            ]
          },
          "metadata": {},
          "execution_count": 1
        }
      ],
      "source": [
        "sent=\"I love lytchee\"\n",
        "sent.split()"
      ]
    },
    {
      "cell_type": "code",
      "execution_count": 2,
      "metadata": {
        "colab": {
          "base_uri": "https://localhost:8080/"
        },
        "id": "B0n08qTTN09S",
        "outputId": "3c45195e-25e9-4bf9-dfdd-88da006715af"
      },
      "outputs": [
        {
          "output_type": "execute_result",
          "data": {
            "text/plain": [
              "['I love', ' lytchee']"
            ]
          },
          "metadata": {},
          "execution_count": 2
        }
      ],
      "source": [
        "sent=\"I love, lytchee\"\n",
        "sent.split(',')"
      ]
    },
    {
      "cell_type": "code",
      "execution_count": 3,
      "metadata": {
        "id": "GS9D6XISOQMX"
      },
      "outputs": [],
      "source": [
        "#using nltk for text pre processing\n",
        "import nltk\n",
        "import nltk.corpus"
      ]
    },
    {
      "cell_type": "code",
      "execution_count": 4,
      "metadata": {
        "id": "cMMwxJyyOb3v"
      },
      "outputs": [],
      "source": [
        "from nltk import tokenize\n",
        "from nltk.tokenize import(word_tokenize,TreebankWordDetokenizer)\n"
      ]
    },
    {
      "cell_type": "code",
      "execution_count": 5,
      "metadata": {
        "colab": {
          "base_uri": "https://localhost:8080/"
        },
        "id": "fA3_pYj2OzXz",
        "outputId": "b71f0771-391a-4215-a566-baba82beb17f"
      },
      "outputs": [
        {
          "output_type": "stream",
          "name": "stderr",
          "text": [
            "[nltk_data] Downloading package punkt to /root/nltk_data...\n",
            "[nltk_data]   Unzipping tokenizers/punkt.zip.\n"
          ]
        },
        {
          "output_type": "execute_result",
          "data": {
            "text/plain": [
              "True"
            ]
          },
          "metadata": {},
          "execution_count": 5
        }
      ],
      "source": [
        "nltk.download('punkt')"
      ]
    },
    {
      "cell_type": "code",
      "execution_count": 6,
      "metadata": {
        "colab": {
          "base_uri": "https://localhost:8080/"
        },
        "id": "_LWBnsMLPKRo",
        "outputId": "b99f948a-0130-40e6-e650-c28a572931b6"
      },
      "outputs": [
        {
          "output_type": "stream",
          "name": "stdout",
          "text": [
            "['Lychee', '(', 'Litchi', 'chinensis', ')', 'is', 'a', 'tropical', 'fruit', 'native', 'to', 'Southeast', 'Asia', '.', 'It', 'has', 'a', 'rough', ',', 'red', 'or', 'pink', 'outer', 'skin', ',', 'sweet', 'and', 'juicy', 'white', 'flesh', ',', 'and', 'a', 'large', 'seed', 'in', 'the', 'center', '.', 'Lychee', 'is', 'rich', 'in', 'vitamin', 'C', ',', 'antioxidants', ',', 'and', 'essential', 'minerals', ',', 'making', 'it', 'a', 'delightful', 'and', 'healthy', 'treat', '.']\n"
          ]
        }
      ],
      "source": [
        "#priting in a single line\n",
        "import nltk\n",
        "\n",
        "word=\"Lychee (Litchi chinensis) is a tropical fruit native to Southeast Asia. It has a rough, red or pink outer skin, sweet and juicy white flesh, and a large seed in the center. Lychee is rich in vitamin C, antioxidants, and essential minerals, making it a delightful and healthy treat.\"\n",
        "nltk_tokens=nltk.word_tokenize(word)\n",
        "print(nltk_tokens)"
      ]
    },
    {
      "cell_type": "code",
      "execution_count": 7,
      "metadata": {
        "colab": {
          "base_uri": "https://localhost:8080/"
        },
        "id": "VtnVC2z9Pxu0",
        "outputId": "74e25443-3df0-48fb-9c65-fe629a46682a"
      },
      "outputs": [
        {
          "output_type": "execute_result",
          "data": {
            "text/plain": [
              "['Lychee',\n",
              " '(',\n",
              " 'Litchi',\n",
              " 'chinensis',\n",
              " ')',\n",
              " 'is',\n",
              " 'a',\n",
              " 'tropical',\n",
              " 'fruit',\n",
              " 'native',\n",
              " 'to',\n",
              " 'Southeast',\n",
              " 'Asia',\n",
              " '.',\n",
              " 'It',\n",
              " 'has',\n",
              " 'a',\n",
              " 'rough',\n",
              " ',',\n",
              " 'red',\n",
              " 'or',\n",
              " 'pink',\n",
              " 'outer',\n",
              " 'skin',\n",
              " ',',\n",
              " 'sweet',\n",
              " 'and',\n",
              " 'juicy',\n",
              " 'white',\n",
              " 'flesh',\n",
              " ',',\n",
              " 'and',\n",
              " 'a',\n",
              " 'large',\n",
              " 'seed',\n",
              " 'in',\n",
              " 'the',\n",
              " 'center',\n",
              " '.',\n",
              " 'Lychee',\n",
              " 'is',\n",
              " 'rich',\n",
              " 'in',\n",
              " 'vitamin',\n",
              " 'C',\n",
              " ',',\n",
              " 'antioxidants',\n",
              " ',',\n",
              " 'and',\n",
              " 'essential',\n",
              " 'minerals',\n",
              " ',',\n",
              " 'making',\n",
              " 'it',\n",
              " 'a',\n",
              " 'delightful',\n",
              " 'and',\n",
              " 'healthy',\n",
              " 'treat',\n",
              " '.']"
            ]
          },
          "metadata": {},
          "execution_count": 7
        }
      ],
      "source": [
        "#this is to print it in list down by down\n",
        "word=\"Lychee (Litchi chinensis) is a tropical fruit native to Southeast Asia. It has a rough, red or pink outer skin, sweet and juicy white flesh, and a large seed in the center. Lychee is rich in vitamin C, antioxidants, and essential minerals, making it a delightful and healthy treat.\"\n",
        "coll_tokens=word_tokenize(word)\n",
        "coll_tokens"
      ]
    },
    {
      "cell_type": "code",
      "execution_count": 8,
      "metadata": {
        "colab": {
          "base_uri": "https://localhost:8080/"
        },
        "id": "PHWkozZ-QeWi",
        "outputId": "e9110715-e8a8-4e60-ae8e-bc9d5111db8e"
      },
      "outputs": [
        {
          "output_type": "execute_result",
          "data": {
            "text/plain": [
              "(list, 60)"
            ]
          },
          "metadata": {},
          "execution_count": 8
        }
      ],
      "source": [
        "type(coll_tokens),len(coll_tokens)"
      ]
    },
    {
      "cell_type": "code",
      "source": [
        "fdist=nltk.probability.FreqDist()\n",
        "for i in nltk_tokens:\n",
        "  fdist[i]=fdist[i]+1\n",
        "fdist"
      ],
      "metadata": {
        "colab": {
          "base_uri": "https://localhost:8080/"
        },
        "id": "bmFOxPDigdqq",
        "outputId": "810bc66a-c0ba-4f68-ad31-33003ab2447d"
      },
      "execution_count": 9,
      "outputs": [
        {
          "output_type": "execute_result",
          "data": {
            "text/plain": [
              "FreqDist({',': 6, 'a': 4, 'and': 4, '.': 3, 'Lychee': 2, 'is': 2, 'in': 2, '(': 1, 'Litchi': 1, 'chinensis': 1, ...})"
            ]
          },
          "metadata": {},
          "execution_count": 9
        }
      ]
    },
    {
      "cell_type": "code",
      "execution_count": null,
      "metadata": {
        "colab": {
          "base_uri": "https://localhost:8080/"
        },
        "id": "lI7PaFiVRltD",
        "outputId": "8c45478c-4531-4ccd-987f-24a6e6b681fc"
      },
      "outputs": [
        {
          "data": {
            "text/plain": [
              "[(',', 18),\n",
              " ('a', 12),\n",
              " ('and', 12),\n",
              " ('.', 9),\n",
              " ('Lychee', 6),\n",
              " ('is', 6),\n",
              " ('in', 6),\n",
              " ('(', 3),\n",
              " ('Litchi', 3),\n",
              " ('chinensis', 3)]"
            ]
          },
          "execution_count": 21,
          "metadata": {},
          "output_type": "execute_result"
        }
      ],
      "source": [
        "#top ten most common tokens\n",
        "top_10=fdist.most_common(10)\n",
        "top_10"
      ]
    },
    {
      "cell_type": "code",
      "execution_count": 11,
      "metadata": {
        "id": "T8-w21hrSfz1",
        "colab": {
          "base_uri": "https://localhost:8080/",
          "height": 218
        },
        "outputId": "c009a3cb-ebf9-42ad-96fd-ba6013776a75"
      },
      "outputs": [
        {
          "output_type": "error",
          "ename": "NameError",
          "evalue": "ignored",
          "traceback": [
            "\u001b[0;31m---------------------------------------------------------------------------\u001b[0m",
            "\u001b[0;31mNameError\u001b[0m                                 Traceback (most recent call last)",
            "\u001b[0;32m<ipython-input-11-4a569af2d86d>\u001b[0m in \u001b[0;36m<cell line: 3>\u001b[0;34m()\u001b[0m\n\u001b[1;32m      1\u001b[0m \u001b[0;31m#treebank\u001b[0m\u001b[0;34m\u001b[0m\u001b[0;34m\u001b[0m\u001b[0m\n\u001b[1;32m      2\u001b[0m \u001b[0mtext\u001b[0m\u001b[0;34m=\u001b[0m\u001b[0;34m\"hi there! i am good.\"\u001b[0m\u001b[0;34m\u001b[0m\u001b[0;34m\u001b[0m\u001b[0m\n\u001b[0;32m----> 3\u001b[0;31m \u001b[0mtbt\u001b[0m\u001b[0;34m=\u001b[0m\u001b[0mTreebankWordTokenizer\u001b[0m\u001b[0;34m(\u001b[0m\u001b[0;34m)\u001b[0m\u001b[0;34m\u001b[0m\u001b[0;34m\u001b[0m\u001b[0m\n\u001b[0m\u001b[1;32m      4\u001b[0m \u001b[0mprint\u001b[0m\u001b[0;34m(\u001b[0m\u001b[0mtbt\u001b[0m\u001b[0;34m.\u001b[0m\u001b[0mtokenize\u001b[0m\u001b[0;34m(\u001b[0m\u001b[0mtext\u001b[0m\u001b[0;34m)\u001b[0m\u001b[0;34m)\u001b[0m\u001b[0;34m\u001b[0m\u001b[0;34m\u001b[0m\u001b[0m\n",
            "\u001b[0;31mNameError\u001b[0m: name 'TreebankWordTokenizer' is not defined"
          ]
        }
      ],
      "source": [
        "#treebank\n",
        "text=\"hi there! i am good.\"\n",
        "tbt=TreebankWordTokenizer()#throws error check\n",
        "print(tbt.tokenize(text))"
      ]
    },
    {
      "cell_type": "code",
      "execution_count": null,
      "metadata": {
        "colab": {
          "base_uri": "https://localhost:8080/"
        },
        "id": "Pi9I69tZSxqa",
        "outputId": "95eb4a9b-28f6-46de-8ea8-196166cef623"
      },
      "outputs": [
        {
          "name": "stdout",
          "output_type": "stream",
          "text": [
            "['hi there.hope you r doing good.welcome to my paradise']\n"
          ]
        }
      ],
      "source": [
        "#line tokenizer\n",
        "import nltk\n",
        "sentence_data=\"hi there.hope you r doing good.welcome to my paradise\"\n",
        "nltk_tokens = nltk.sent_tokenize(sentence_data)\n",
        "print(nltk_tokens)"
      ]
    },
    {
      "cell_type": "code",
      "execution_count": null,
      "metadata": {
        "colab": {
          "base_uri": "https://localhost:8080/"
        },
        "id": "X4Z46qocTfGE",
        "outputId": "e45742f0-9d70-48bf-c1d4-c04f5285f76d"
      },
      "outputs": [
        {
          "name": "stdout",
          "output_type": "stream",
          "text": [
            "['Wie geht es Ihnen?', 'Gut,danke.']\n"
          ]
        }
      ],
      "source": [
        "import nltk\n",
        "german_tokenizer = nltk.data.load('tokenizers/punkt/german.pickle')\n",
        "german_tokens=german_tokenizer.tokenize('Wie geht es Ihnen? Gut,danke.')\n",
        "print(german_tokens)"
      ]
    },
    {
      "cell_type": "code",
      "execution_count": null,
      "metadata": {
        "colab": {
          "base_uri": "https://localhost:8080/"
        },
        "id": "ZO4kAj6yUqjV",
        "outputId": "277315d6-104c-4d62-a83b-f8e6c8f32d11"
      },
      "outputs": [
        {
          "name": "stdout",
          "output_type": "stream",
          "text": [
            "['J', 'a', 'y', 'a', 'd', 'e', 'e', 'p', ' ', 'R', 'e', 'd', 'd', 'y']\n"
          ]
        }
      ],
      "source": [
        "#character tokenization\n",
        "text=\"Jayadeep Reddy\"\n",
        "tokens=list(text)\n",
        "print(tokens)"
      ]
    },
    {
      "cell_type": "code",
      "execution_count": null,
      "metadata": {
        "colab": {
          "base_uri": "https://localhost:8080/"
        },
        "id": "P0MWZm2KVGDZ",
        "outputId": "f5c6cd34-0f60-4924-b31b-2449938d28a6"
      },
      "outputs": [
        {
          "name": "stdout",
          "output_type": "stream",
          "text": [
            "sree nidhi\n"
          ]
        }
      ],
      "source": [
        "#lowercasing a sentencec:\n",
        "text=\"SREE NIDHI\"\n",
        "lower_case=text.lower()\n",
        "print(lower_case)"
      ]
    },
    {
      "cell_type": "code",
      "execution_count": 13,
      "metadata": {
        "colab": {
          "base_uri": "https://localhost:8080/"
        },
        "id": "LbzFdh4qVxNo",
        "outputId": "f02f30a7-06f0-4bd9-cc9d-7fb9a4a5642f"
      },
      "outputs": [
        {
          "output_type": "stream",
          "name": "stdout",
          "text": [
            "['hello there.', 'how r u?']\n"
          ]
        }
      ],
      "source": [
        "#lowercasing sentences\n",
        "sentences=[\"HELLO thEre.\",\"HOW r u?\"]\n",
        "lowercased_sentences=[sentence.lower() for sentence in sentences ]\n",
        "print(lowercased_sentences)"
      ]
    },
    {
      "cell_type": "code",
      "execution_count": null,
      "metadata": {
        "colab": {
          "base_uri": "https://localhost:8080/"
        },
        "id": "AoLDVINLWWsF",
        "outputId": "5f674003-5815-4b77-8ffc-a54c7d9ddf4e"
      },
      "outputs": [
        {
          "name": "stdout",
          "output_type": "stream",
          "text": [
            "['tokenisation', 'is', 'a', 'first', 'step', 'in', 'nlp', 'pipeline']\n"
          ]
        }
      ],
      "source": [
        "#text into token\n",
        "\n",
        "text=\"Tokenisation is a first step in nlp pipeline\"\n",
        "tokens=word_tokenize(text)\n",
        "lowercased_token=[token.lower() for token in tokens ]\n",
        "print(lowercased_token)\n"
      ]
    },
    {
      "cell_type": "code",
      "execution_count": 14,
      "metadata": {
        "colab": {
          "base_uri": "https://localhost:8080/"
        },
        "id": "93A61HUDW75H",
        "outputId": "e0f64f05-89d6-431a-807a-fa2595ae6e02"
      },
      "outputs": [
        {
          "output_type": "stream",
          "name": "stdout",
          "text": [
            "this is a text WiTh UPPERCasE words.\n"
          ]
        }
      ],
      "source": [
        "#regex\n",
        "import re\n",
        "tex=\"this is a TEXT WiTh UPPERCasE words.\"\n",
        "l_tex=re.sub(r'\\b[A-Z]+\\b', lambda match: match.group().lower(),tex)\n",
        "print(l_tex)"
      ]
    },
    {
      "cell_type": "code",
      "execution_count": null,
      "metadata": {
        "colab": {
          "base_uri": "https://localhost:8080/"
        },
        "id": "tCfckvledqQo",
        "outputId": "a04e4b23-70c2-4cd3-913f-3689c5ed7e21"
      },
      "outputs": [
        {
          "name": "stdout",
          "output_type": "stream",
          "text": [
            "['i', 'am', 'so', 'happy']\n"
          ]
        }
      ],
      "source": [
        "#word tokenize\n",
        "text=\"i am so happy\"\n",
        "print(word_tokenize(text))"
      ]
    },
    {
      "cell_type": "code",
      "execution_count": 15,
      "metadata": {
        "id": "1SnXGbLneCa1",
        "colab": {
          "base_uri": "https://localhost:8080/",
          "height": 235
        },
        "outputId": "431f5846-7a23-446f-99f8-1b2c98477d57"
      },
      "outputs": [
        {
          "output_type": "error",
          "ename": "NameError",
          "evalue": "ignored",
          "traceback": [
            "\u001b[0;31m---------------------------------------------------------------------------\u001b[0m",
            "\u001b[0;31mNameError\u001b[0m                                 Traceback (most recent call last)",
            "\u001b[0;32m<ipython-input-15-434a9b7126d7>\u001b[0m in \u001b[0;36m<cell line: 3>\u001b[0;34m()\u001b[0m\n\u001b[1;32m      1\u001b[0m \u001b[0;31m#punctuation based tokenizer\u001b[0m\u001b[0;34m\u001b[0m\u001b[0;34m\u001b[0m\u001b[0m\n\u001b[1;32m      2\u001b[0m \u001b[0ms\u001b[0m\u001b[0;34m=\u001b[0m\u001b[0;34m\"what you don't want to be done to yourself, don't do to others...\"\u001b[0m\u001b[0;34m\u001b[0m\u001b[0;34m\u001b[0m\u001b[0m\n\u001b[0;32m----> 3\u001b[0;31m \u001b[0mt\u001b[0m\u001b[0;34m=\u001b[0m\u001b[0mTreebankWordTokenizer\u001b[0m\u001b[0;34m(\u001b[0m\u001b[0;34m)\u001b[0m\u001b[0;34m\u001b[0m\u001b[0;34m\u001b[0m\u001b[0m\n\u001b[0m\u001b[1;32m      4\u001b[0m \u001b[0mprint\u001b[0m\u001b[0;34m(\u001b[0m\u001b[0mt\u001b[0m\u001b[0;34m.\u001b[0m\u001b[0mtokenize\u001b[0m\u001b[0;34m(\u001b[0m\u001b[0ms\u001b[0m\u001b[0;34m)\u001b[0m\u001b[0;34m)\u001b[0m\u001b[0;34m\u001b[0m\u001b[0;34m\u001b[0m\u001b[0m\n\u001b[1;32m      5\u001b[0m \u001b[0;31m#treebank tonkenizer\u001b[0m\u001b[0;34m\u001b[0m\u001b[0;34m\u001b[0m\u001b[0m\n",
            "\u001b[0;31mNameError\u001b[0m: name 'TreebankWordTokenizer' is not defined"
          ]
        }
      ],
      "source": [
        "#punctuation based tokenizer\n",
        "s=\"what you don't want to be done to yourself, don't do to others...\"\n",
        "t=TreebankWordTokenizer()#not sure why the tree bank doesnt work\n",
        "print(t.tokenize(s))"
      ]
    },
    {
      "cell_type": "code",
      "execution_count": 16,
      "metadata": {
        "colab": {
          "base_uri": "https://localhost:8080/"
        },
        "id": "ZKYroK9He7ZX",
        "outputId": "26ff45c1-5b6c-435b-da88-c57d06b2cbf8"
      },
      "outputs": [
        {
          "output_type": "stream",
          "name": "stdout",
          "text": [
            "['Paris', 'is', 'beautiful', '🥰']\n"
          ]
        }
      ],
      "source": [
        "#tweet tokenizer\n",
        "tweet=\"Paris is beautiful 🥰\"\n",
        "t=nltk.TweetTokenizer()\n",
        "print(t.tokenize(tweet))"
      ]
    },
    {
      "cell_type": "code",
      "execution_count": 17,
      "metadata": {
        "id": "k7LO8C-_hIJ0",
        "colab": {
          "base_uri": "https://localhost:8080/"
        },
        "outputId": "ccc86219-6de9-4455-fd42-2c8153aa9d7e"
      },
      "outputs": [
        {
          "output_type": "stream",
          "name": "stdout",
          "text": [
            "['Hope', ',', 'is', 'the', 'only', 'thing', 'stronger', 'than', 'fear', '!', 'Hunger_Games', '#', 'Hope_._M']\n"
          ]
        }
      ],
      "source": [
        "text=\"Hope, is the only thing stronger than fear! Hunger Games #Hope.M\"\n",
        "tokenizer=nltk.MWETokenizer()\n",
        "tokenizer.add_mwe(('Hunger','Games'))\n",
        "tokenizer.add_mwe(('Hope','.','M'))\n",
        "print(tokenizer.tokenize(nltk.wordpunct_tokenize(text)))"
      ]
    },
    {
      "cell_type": "code",
      "execution_count": 19,
      "metadata": {
        "id": "29W0wEU6hzlb",
        "colab": {
          "base_uri": "https://localhost:8080/"
        },
        "outputId": "abcc6979-76d7-4e5f-da83-4feee341e578"
      },
      "outputs": [
        {
          "output_type": "stream",
          "name": "stdout",
          "text": [
            "['what', 'you', 'do', \"n't\", 'want', 'to', 'be', 'done', 'to', 'yourself', 'do', \"n't\", 'do', 'to', 'others'] 15\n",
            "15\n"
          ]
        }
      ],
      "source": [
        "from textblob import TextBlob\n",
        "text=\"the biggest way to get ahead of competition is to get started!\"\n",
        "blob_obj=TextBlob(s)\n",
        "text_words=blob_obj.words\n",
        "print(text_words,len(text_words))\n",
        "print(len(text_words))"
      ]
    },
    {
      "cell_type": "code",
      "execution_count": 20,
      "metadata": {
        "colab": {
          "base_uri": "https://localhost:8080/"
        },
        "id": "-uSHzOF1iyU_",
        "outputId": "2f50a004-6235-48c8-a0b4-73134179b85b"
      },
      "outputs": [
        {
          "output_type": "stream",
          "name": "stdout",
          "text": [
            "you 0\n",
            "look 4\n",
            "like 9\n",
            "a 14\n",
            "piece 16\n",
            "of 22\n",
            "shit 25\n",
            "xD 30\n",
            "💩 33\n",
            "👻 35\n"
          ]
        }
      ],
      "source": [
        "#spacy tokenise (process the emojis)\n",
        "import spacy\n",
        "text=\"you look like a piece of shit xD 💩 👻\"\n",
        "nlp=spacy.load(\"en_core_web_sm\")\n",
        "doc=nlp(text)\n",
        "for i in doc:\n",
        "  print(i,i.idx)"
      ]
    },
    {
      "cell_type": "code",
      "source": [
        "from keras.preprocessing.text import Tokenizer\n",
        "from keras.preprocessing.text import text_to_word_sequence"
      ],
      "metadata": {
        "id": "lQYIUogKkucx"
      },
      "execution_count": 21,
      "outputs": []
    },
    {
      "cell_type": "code",
      "source": [
        "ntoken=Tokenizer(num_words=20)\n",
        "text=\"Only Auburn in 2015 has broken the Crimson Tide’s preseason string during the Saban glory days (though, in a quirk of voting, Alabama was the pick to win the SEC championship that year).\"\n",
        "ntoken.fit_on_texts(text)\n",
        "print(text_to_word_sequence(text))"
      ],
      "metadata": {
        "colab": {
          "base_uri": "https://localhost:8080/"
        },
        "id": "zwn6lRdPkzvb",
        "outputId": "a0075c2e-9641-4105-e7ae-a67e7ff6e8e6"
      },
      "execution_count": 23,
      "outputs": [
        {
          "output_type": "stream",
          "name": "stdout",
          "text": [
            "['only', 'auburn', 'in', '2015', 'has', 'broken', 'the', 'crimson', 'tide’s', 'preseason', 'string', 'during', 'the', 'saban', 'glory', 'days', 'though', 'in', 'a', 'quirk', 'of', 'voting', 'alabama', 'was', 'the', 'pick', 'to', 'win', 'the', 'sec', 'championship', 'that', 'year']\n"
          ]
        }
      ]
    },
    {
      "cell_type": "code",
      "source": [
        "examp=\"Music is an amzing therapy if u know it!!! it evolves the soul in you\"\n",
        "t=word_tokenize(examp)\n",
        "list(nltk.bigrams(t))\n",
        "list(nltk.trigrams(t))"
      ],
      "metadata": {
        "colab": {
          "base_uri": "https://localhost:8080/"
        },
        "id": "x80lMKcRlRUu",
        "outputId": "9c45704a-7fbc-46d7-da8e-23e71628e6dd"
      },
      "execution_count": 24,
      "outputs": [
        {
          "output_type": "execute_result",
          "data": {
            "text/plain": [
              "[('Music', 'is', 'an'),\n",
              " ('is', 'an', 'amzing'),\n",
              " ('an', 'amzing', 'therapy'),\n",
              " ('amzing', 'therapy', 'if'),\n",
              " ('therapy', 'if', 'u'),\n",
              " ('if', 'u', 'know'),\n",
              " ('u', 'know', 'it'),\n",
              " ('know', 'it', '!'),\n",
              " ('it', '!', '!'),\n",
              " ('!', '!', '!'),\n",
              " ('!', '!', 'it'),\n",
              " ('!', 'it', 'evolves'),\n",
              " ('it', 'evolves', 'the'),\n",
              " ('evolves', 'the', 'soul'),\n",
              " ('the', 'soul', 'in'),\n",
              " ('soul', 'in', 'you')]"
            ]
          },
          "metadata": {},
          "execution_count": 24
        }
      ]
    },
    {
      "cell_type": "code",
      "source": [
        "list(nltk.ngrams(t,7))"
      ],
      "metadata": {
        "colab": {
          "base_uri": "https://localhost:8080/"
        },
        "id": "KAGsaFohlcrq",
        "outputId": "34d2d8e0-aeac-4025-f0c2-fc4078d16854"
      },
      "execution_count": 25,
      "outputs": [
        {
          "output_type": "execute_result",
          "data": {
            "text/plain": [
              "[('Music', 'is', 'an', 'amzing', 'therapy', 'if', 'u'),\n",
              " ('is', 'an', 'amzing', 'therapy', 'if', 'u', 'know'),\n",
              " ('an', 'amzing', 'therapy', 'if', 'u', 'know', 'it'),\n",
              " ('amzing', 'therapy', 'if', 'u', 'know', 'it', '!'),\n",
              " ('therapy', 'if', 'u', 'know', 'it', '!', '!'),\n",
              " ('if', 'u', 'know', 'it', '!', '!', '!'),\n",
              " ('u', 'know', 'it', '!', '!', '!', 'it'),\n",
              " ('know', 'it', '!', '!', '!', 'it', 'evolves'),\n",
              " ('it', '!', '!', '!', 'it', 'evolves', 'the'),\n",
              " ('!', '!', '!', 'it', 'evolves', 'the', 'soul'),\n",
              " ('!', '!', 'it', 'evolves', 'the', 'soul', 'in'),\n",
              " ('!', 'it', 'evolves', 'the', 'soul', 'in', 'you')]"
            ]
          },
          "metadata": {},
          "execution_count": 25
        }
      ]
    },
    {
      "cell_type": "code",
      "source": [
        "from nltk.stem.porter import *"
      ],
      "metadata": {
        "id": "JkSTjiO6llXT"
      },
      "execution_count": 27,
      "outputs": []
    },
    {
      "cell_type": "code",
      "source": [
        "pst=PorterStemmer()\n",
        "pst.stem(\"changing\"),pst.stem(\"changes\"),pst.stem(\"changable\")"
      ],
      "metadata": {
        "colab": {
          "base_uri": "https://localhost:8080/"
        },
        "id": "rpCjjbOXln2K",
        "outputId": "8bf7e264-8d3f-4f34-94c4-21c730d41e2b"
      },
      "execution_count": 29,
      "outputs": [
        {
          "output_type": "execute_result",
          "data": {
            "text/plain": [
              "('chang', 'chang', 'changabl')"
            ]
          },
          "metadata": {},
          "execution_count": 29
        }
      ]
    },
    {
      "cell_type": "code",
      "source": [
        "words=[\"making\",\"me\",\"feel\",\"cute\",\"just\",\"like\",\"any\",\"other\",\"day\"]\n",
        "for i in words:\n",
        "  print(i+'-->'+pst.stem(i))"
      ],
      "metadata": {
        "colab": {
          "base_uri": "https://localhost:8080/"
        },
        "id": "Cs-ABPSYl8rb",
        "outputId": "8dc81f6a-23cc-4a1e-8986-045feb62a12a"
      },
      "execution_count": 30,
      "outputs": [
        {
          "output_type": "stream",
          "name": "stdout",
          "text": [
            "making-->make\n",
            "me-->me\n",
            "feel-->feel\n",
            "cute-->cute\n",
            "just-->just\n",
            "like-->like\n",
            "any-->ani\n",
            "other-->other\n",
            "day-->day\n"
          ]
        }
      ]
    },
    {
      "cell_type": "code",
      "source": [
        "#trying using snowball stemmer\n",
        "from nltk.stem.snowball import SnowballStemmer\n",
        "s_stemmer=SnowballStemmer(language='english')\n",
        "words=[\"cats\",\"saw\",\"cacti\",\"geeses\",\"changes\"]\n",
        "for word in words:\n",
        "  print(word+'-->'+s_stemmer.stem(word))"
      ],
      "metadata": {
        "colab": {
          "base_uri": "https://localhost:8080/"
        },
        "id": "9Y7oF3bBmTDg",
        "outputId": "3e44a0e7-f528-4bd0-c4b3-5ddd7a024781"
      },
      "execution_count": 34,
      "outputs": [
        {
          "output_type": "stream",
          "name": "stdout",
          "text": [
            "cats-->cat\n",
            "saw-->saw\n",
            "cacti-->cacti\n",
            "geeses-->gees\n",
            "changes-->chang\n"
          ]
        }
      ]
    },
    {
      "cell_type": "code",
      "source": [
        "from nltk.stem import wordnet\n",
        "from nltk.stem import WordNetLemmatizer\n",
        "l=WordNetLemmatizer()\n",
        "nltk.download('wordnet')"
      ],
      "metadata": {
        "colab": {
          "base_uri": "https://localhost:8080/"
        },
        "id": "nBacaCzimioJ",
        "outputId": "b9cf6876-92f2-4f36-b703-4550c8e07818"
      },
      "execution_count": 35,
      "outputs": [
        {
          "output_type": "stream",
          "name": "stderr",
          "text": [
            "[nltk_data] Downloading package wordnet to /root/nltk_data...\n"
          ]
        },
        {
          "output_type": "execute_result",
          "data": {
            "text/plain": [
              "True"
            ]
          },
          "metadata": {},
          "execution_count": 35
        }
      ]
    },
    {
      "cell_type": "code",
      "source": [
        "words=[\"cats\",\"saw\",\"cacti\",\"geeses\",\"changes\"]\n",
        "for i in words:\n",
        "  print(i+'-->'+l.lemmatize(i))"
      ],
      "metadata": {
        "colab": {
          "base_uri": "https://localhost:8080/"
        },
        "id": "KI30Pjhnmylh",
        "outputId": "82653a72-5d16-4380-995e-66ebcfee7777"
      },
      "execution_count": 36,
      "outputs": [
        {
          "output_type": "stream",
          "name": "stdout",
          "text": [
            "cats-->cat\n",
            "saw-->saw\n",
            "cacti-->cactus\n",
            "geeses-->gee\n",
            "changes-->change\n"
          ]
        }
      ]
    },
    {
      "cell_type": "code",
      "source": [
        "import spacy\n",
        "nlp=spacy.load(\"en_core_web_sm\")\n",
        "text= \"running runner ran runs studying\"\n",
        "doc=nlp(text)\n",
        "l=[token.lemma_ for token in doc]\n",
        "print(l)"
      ],
      "metadata": {
        "colab": {
          "base_uri": "https://localhost:8080/"
        },
        "id": "x2oFGzeSm3rX",
        "outputId": "d1b5e7b0-8a03-432d-ab80-e410bff4cf9b"
      },
      "execution_count": 37,
      "outputs": [
        {
          "output_type": "stream",
          "name": "stdout",
          "text": [
            "['run', 'runner', 'run', 'run', 'study']\n"
          ]
        }
      ]
    },
    {
      "cell_type": "code",
      "source": [
        "from textblob import Word\n",
        "words=[\"running\",\"runner\",\"ran\",\"runs\",\"traditional\",\"better\"]\n",
        "l=[Word(word).lemmatize() for word in words]\n",
        "print(l)"
      ],
      "metadata": {
        "colab": {
          "base_uri": "https://localhost:8080/"
        },
        "id": "1NvpcT_UnBi8",
        "outputId": "136f15f9-6c1b-400e-cfa3-c55fb970ffb1"
      },
      "execution_count": 38,
      "outputs": [
        {
          "output_type": "stream",
          "name": "stdout",
          "text": [
            "['running', 'runner', 'ran', 'run', 'traditional', 'better']\n"
          ]
        }
      ]
    },
    {
      "cell_type": "code",
      "source": [
        "from nltk.corpus import stopwords\n",
        "nltk.download('stopwords')\n",
        "print(stopwords.words('french'))"
      ],
      "metadata": {
        "colab": {
          "base_uri": "https://localhost:8080/"
        },
        "id": "oS_Z2AmunFah",
        "outputId": "b8b55bf2-d678-4ab5-85f7-cdc3ce746bb4"
      },
      "execution_count": 39,
      "outputs": [
        {
          "output_type": "stream",
          "name": "stdout",
          "text": [
            "['au', 'aux', 'avec', 'ce', 'ces', 'dans', 'de', 'des', 'du', 'elle', 'en', 'et', 'eux', 'il', 'ils', 'je', 'la', 'le', 'les', 'leur', 'lui', 'ma', 'mais', 'me', 'même', 'mes', 'moi', 'mon', 'ne', 'nos', 'notre', 'nous', 'on', 'ou', 'par', 'pas', 'pour', 'qu', 'que', 'qui', 'sa', 'se', 'ses', 'son', 'sur', 'ta', 'te', 'tes', 'toi', 'ton', 'tu', 'un', 'une', 'vos', 'votre', 'vous', 'c', 'd', 'j', 'l', 'à', 'm', 'n', 's', 't', 'y', 'été', 'étée', 'étées', 'étés', 'étant', 'étante', 'étants', 'étantes', 'suis', 'es', 'est', 'sommes', 'êtes', 'sont', 'serai', 'seras', 'sera', 'serons', 'serez', 'seront', 'serais', 'serait', 'serions', 'seriez', 'seraient', 'étais', 'était', 'étions', 'étiez', 'étaient', 'fus', 'fut', 'fûmes', 'fûtes', 'furent', 'sois', 'soit', 'soyons', 'soyez', 'soient', 'fusse', 'fusses', 'fût', 'fussions', 'fussiez', 'fussent', 'ayant', 'ayante', 'ayantes', 'ayants', 'eu', 'eue', 'eues', 'eus', 'ai', 'as', 'avons', 'avez', 'ont', 'aurai', 'auras', 'aura', 'aurons', 'aurez', 'auront', 'aurais', 'aurait', 'aurions', 'auriez', 'auraient', 'avais', 'avait', 'avions', 'aviez', 'avaient', 'eut', 'eûmes', 'eûtes', 'eurent', 'aie', 'aies', 'ait', 'ayons', 'ayez', 'aient', 'eusse', 'eusses', 'eût', 'eussions', 'eussiez', 'eussent']\n"
          ]
        },
        {
          "output_type": "stream",
          "name": "stderr",
          "text": [
            "[nltk_data] Downloading package stopwords to /root/nltk_data...\n",
            "[nltk_data]   Unzipping corpora/stopwords.zip.\n"
          ]
        }
      ]
    },
    {
      "cell_type": "code",
      "source": [
        "from nltk.tokenize import word_tokenize\n",
        "text=\"meow!!! imma bite you\"\n",
        "tokens=word_tokenize(text)\n",
        "stop=set(stopwords.words(\"english\"))\n",
        "filter=[token for token in tokens if token.lower() not in stop]\n",
        "print(filter)"
      ],
      "metadata": {
        "colab": {
          "base_uri": "https://localhost:8080/"
        },
        "id": "jN4xY54wnLSU",
        "outputId": "ba0e2bf4-6ef0-41d4-bbfc-e812999cfb17"
      },
      "execution_count": 40,
      "outputs": [
        {
          "output_type": "stream",
          "name": "stdout",
          "text": [
            "['meow', '!', '!', '!', 'imma', 'bite']\n"
          ]
        }
      ]
    },
    {
      "cell_type": "code",
      "source": [
        "len(nlp.Defaults.stop_words)"
      ],
      "metadata": {
        "colab": {
          "base_uri": "https://localhost:8080/"
        },
        "id": "DXgMNmJNnaZz",
        "outputId": "1e19a28e-1a30-48dd-fc78-c1058a3a23c5"
      },
      "execution_count": 41,
      "outputs": [
        {
          "output_type": "execute_result",
          "data": {
            "text/plain": [
              "326"
            ]
          },
          "metadata": {},
          "execution_count": 41
        }
      ]
    },
    {
      "cell_type": "code",
      "source": [
        "nlp.vocab['me'].is_stop"
      ],
      "metadata": {
        "colab": {
          "base_uri": "https://localhost:8080/"
        },
        "id": "sRLgqBhCndPB",
        "outputId": "685ed96a-5b4a-4633-d72f-b431cdf31f3a"
      },
      "execution_count": 42,
      "outputs": [
        {
          "output_type": "execute_result",
          "data": {
            "text/plain": [
              "True"
            ]
          },
          "metadata": {},
          "execution_count": 42
        }
      ]
    },
    {
      "cell_type": "code",
      "source": [
        "nlp.Defaults.stop_words.add('R')"
      ],
      "metadata": {
        "id": "TIYzLnEYnhXU"
      },
      "execution_count": 43,
      "outputs": []
    },
    {
      "cell_type": "code",
      "source": [
        "nlp.vocab['R'].is_stop=True\n",
        "nlp.vocab['R'].is_stop,len(nlp.Defaults.stop_words)"
      ],
      "metadata": {
        "colab": {
          "base_uri": "https://localhost:8080/"
        },
        "id": "qk_FNqUvnjp5",
        "outputId": "439a1a93-9976-4c62-fcd2-dc4c88255123"
      },
      "execution_count": 44,
      "outputs": [
        {
          "output_type": "execute_result",
          "data": {
            "text/plain": [
              "(True, 327)"
            ]
          },
          "metadata": {},
          "execution_count": 44
        }
      ]
    },
    {
      "cell_type": "code",
      "source": [
        "Msg=\"What do you mean,'I don't believe in god'? I talk to him everyday!\"\n",
        "nltk.download('averaged_perceptron_tagger')"
      ],
      "metadata": {
        "colab": {
          "base_uri": "https://localhost:8080/"
        },
        "id": "s6uDrkcdnl-k",
        "outputId": "5b195a0a-d435-44d5-9fcf-d35ba584d2eb"
      },
      "execution_count": 45,
      "outputs": [
        {
          "output_type": "stream",
          "name": "stderr",
          "text": [
            "[nltk_data] Downloading package averaged_perceptron_tagger to\n",
            "[nltk_data]     /root/nltk_data...\n",
            "[nltk_data]   Unzipping taggers/averaged_perceptron_tagger.zip.\n"
          ]
        },
        {
          "output_type": "execute_result",
          "data": {
            "text/plain": [
              "True"
            ]
          },
          "metadata": {},
          "execution_count": 45
        }
      ]
    },
    {
      "cell_type": "code",
      "source": [
        "msg_tokens=word_tokenize(Msg)\n",
        "print(msg_tokens)"
      ],
      "metadata": {
        "colab": {
          "base_uri": "https://localhost:8080/"
        },
        "id": "ShlW8yVvnn6B",
        "outputId": "7631b378-47f7-4096-f4a3-c90d1b41d946"
      },
      "execution_count": 46,
      "outputs": [
        {
          "output_type": "stream",
          "name": "stdout",
          "text": [
            "['What', 'do', 'you', 'mean', ',', \"'\", 'I', 'do', \"n't\", 'believe', 'in', 'god', \"'\", '?', 'I', 'talk', 'to', 'him', 'everyday', '!']\n"
          ]
        }
      ]
    },
    {
      "cell_type": "code",
      "source": [
        "for i in msg_tokens:\n",
        "  print(nltk.pos_tag([i]))"
      ],
      "metadata": {
        "colab": {
          "base_uri": "https://localhost:8080/"
        },
        "id": "xTP9n85cnq52",
        "outputId": "8ea17a59-8fc1-41c3-f4c7-bd87c629adc3"
      },
      "execution_count": 47,
      "outputs": [
        {
          "output_type": "stream",
          "name": "stdout",
          "text": [
            "[('What', 'WP')]\n",
            "[('do', 'VB')]\n",
            "[('you', 'PRP')]\n",
            "[('mean', 'NN')]\n",
            "[(',', ',')]\n",
            "[(\"'\", \"''\")]\n",
            "[('I', 'PRP')]\n",
            "[('do', 'VB')]\n",
            "[(\"n't\", 'RB')]\n",
            "[('believe', 'VB')]\n",
            "[('in', 'IN')]\n",
            "[('god', 'NN')]\n",
            "[(\"'\", \"''\")]\n",
            "[('?', '.')]\n",
            "[('I', 'PRP')]\n",
            "[('talk', 'NN')]\n",
            "[('to', 'TO')]\n",
            "[('him', 'PRP')]\n",
            "[('everyday', 'NN')]\n",
            "[('!', '.')]\n"
          ]
        }
      ]
    },
    {
      "cell_type": "code",
      "source": [
        "import spacy\n",
        "nlp=spacy.load(\"en_core_web_sm\")\n",
        "text=\"POS tagging stands for Parts of speech tagging\"\n",
        "doc=nlp(text)\n",
        "pos_tags=[(token.text,token.pos_) for token in doc]\n",
        "print(pos_tags)"
      ],
      "metadata": {
        "colab": {
          "base_uri": "https://localhost:8080/"
        },
        "id": "DqbiltXpnuNN",
        "outputId": "78d00194-a7cf-40fe-cdfe-005a0239acb9"
      },
      "execution_count": 48,
      "outputs": [
        {
          "output_type": "stream",
          "name": "stdout",
          "text": [
            "[('POS', 'PROPN'), ('tagging', 'NOUN'), ('stands', 'VERB'), ('for', 'ADP'), ('Parts', 'NOUN'), ('of', 'ADP'), ('speech', 'NOUN'), ('tagging', 'NOUN')]\n"
          ]
        }
      ]
    },
    {
      "cell_type": "code",
      "source": [
        "for i in doc:\n",
        "  print(i,\"|\",i.lemma_,\"|\",i.pos_,\"|\",spacy.explain(i.pos_),\"|\",i.tag_,\"|\",spacy.explain(i.tag_))"
      ],
      "metadata": {
        "colab": {
          "base_uri": "https://localhost:8080/"
        },
        "id": "L1QOhUpdn4Do",
        "outputId": "ce85594c-e63b-4f95-82fa-04a1234631b9"
      },
      "execution_count": 49,
      "outputs": [
        {
          "output_type": "stream",
          "name": "stdout",
          "text": [
            "POS | POS | PROPN | proper noun | NNP | noun, proper singular\n",
            "tagging | tagging | NOUN | noun | NN | noun, singular or mass\n",
            "stands | stand | VERB | verb | VBZ | verb, 3rd person singular present\n",
            "for | for | ADP | adposition | IN | conjunction, subordinating or preposition\n",
            "Parts | part | NOUN | noun | NNS | noun, plural\n",
            "of | of | ADP | adposition | IN | conjunction, subordinating or preposition\n",
            "speech | speech | NOUN | noun | NN | noun, singular or mass\n",
            "tagging | tagging | NOUN | noun | NN | noun, singular or mass\n"
          ]
        }
      ]
    },
    {
      "cell_type": "code",
      "source": [
        "sent=\"life is a compromise between feelings and reality\"\n",
        "t=nltk.word_tokenize(sent)\n",
        "pos=nltk.pos_tag(t)\n",
        "print(pos)"
      ],
      "metadata": {
        "colab": {
          "base_uri": "https://localhost:8080/"
        },
        "id": "0SJ1tgtMn8Ob",
        "outputId": "d3383ffb-c265-4f18-b058-3b9b922a7085"
      },
      "execution_count": 56,
      "outputs": [
        {
          "output_type": "stream",
          "name": "stdout",
          "text": [
            "[('life', 'NN'), ('is', 'VBZ'), ('a', 'DT'), ('compromise', 'NN'), ('between', 'IN'), ('feelings', 'NNS'), ('and', 'CC'), ('reality', 'NN')]\n"
          ]
        }
      ]
    },
    {
      "cell_type": "code",
      "source": [
        "from nltk import ne_chunk\n",
        "nltk.download(\"maxent_ne_chunker\")\n",
        "nltk.download(\"words\")"
      ],
      "metadata": {
        "colab": {
          "base_uri": "https://localhost:8080/"
        },
        "id": "AFZWedX0n9SG",
        "outputId": "12fc52b6-094a-4a63-85cd-8a6c54dfdd2f"
      },
      "execution_count": 57,
      "outputs": [
        {
          "output_type": "stream",
          "name": "stderr",
          "text": [
            "[nltk_data] Downloading package maxent_ne_chunker to\n",
            "[nltk_data]     /root/nltk_data...\n",
            "[nltk_data]   Package maxent_ne_chunker is already up-to-date!\n",
            "[nltk_data] Downloading package words to /root/nltk_data...\n",
            "[nltk_data]   Package words is already up-to-date!\n"
          ]
        },
        {
          "output_type": "execute_result",
          "data": {
            "text/plain": [
              "True"
            ]
          },
          "metadata": {},
          "execution_count": 57
        }
      ]
    },
    {
      "cell_type": "code",
      "source": [
        "l=\"ten years from now make sure you can say u chose your life and u didnt settle for it :)\"\n",
        "l_t=word_tokenize(l)\n",
        "l_tags=nltk.pos_tag(l_t)\n",
        "print(l_tags)"
      ],
      "metadata": {
        "colab": {
          "base_uri": "https://localhost:8080/"
        },
        "id": "WYLUT-PeoDnt",
        "outputId": "de445b02-3d7e-44c8-f94f-e118c949e9ec"
      },
      "execution_count": 58,
      "outputs": [
        {
          "output_type": "stream",
          "name": "stdout",
          "text": [
            "[('ten', 'CD'), ('years', 'NNS'), ('from', 'IN'), ('now', 'RB'), ('make', 'VB'), ('sure', 'JJ'), ('you', 'PRP'), ('can', 'MD'), ('say', 'VB'), ('u', 'JJ'), ('chose', 'VB'), ('your', 'PRP$'), ('life', 'NN'), ('and', 'CC'), ('u', 'JJ'), ('didnt', 'NN'), ('settle', 'NN'), ('for', 'IN'), ('it', 'PRP'), (':', ':'), (')', ')')]\n"
          ]
        }
      ]
    },
    {
      "cell_type": "code",
      "source": [
        "l_ner=ne_chunk(l_tags)\n",
        "print(l_ner)"
      ],
      "metadata": {
        "colab": {
          "base_uri": "https://localhost:8080/"
        },
        "id": "FFsrpIwSoH86",
        "outputId": "73ce13fe-2d8c-4796-d749-ff17923940da"
      },
      "execution_count": 59,
      "outputs": [
        {
          "output_type": "stream",
          "name": "stdout",
          "text": [
            "(S\n",
            "  ten/CD\n",
            "  years/NNS\n",
            "  from/IN\n",
            "  now/RB\n",
            "  make/VB\n",
            "  sure/JJ\n",
            "  you/PRP\n",
            "  can/MD\n",
            "  say/VB\n",
            "  u/JJ\n",
            "  chose/VB\n",
            "  your/PRP$\n",
            "  life/NN\n",
            "  and/CC\n",
            "  u/JJ\n",
            "  didnt/NN\n",
            "  settle/NN\n",
            "  for/IN\n",
            "  it/PRP\n",
            "  :/:\n",
            "  )/))\n"
          ]
        }
      ]
    },
    {
      "cell_type": "code",
      "source": [
        "sentence=\"ten years from now make sure you can say u chose your life and u didnt settle for it :)\"\n",
        "doc=nlp(sentence)\n",
        "for ent in doc.ents:\n",
        "  print(ent.text,\"-\",ent.label_)"
      ],
      "metadata": {
        "colab": {
          "base_uri": "https://localhost:8080/"
        },
        "id": "jH-g-qa2oKpJ",
        "outputId": "fe7244a3-4fc8-4be3-f465-cd06ea8e74b0"
      },
      "execution_count": 60,
      "outputs": [
        {
          "output_type": "stream",
          "name": "stdout",
          "text": [
            "ten years - DATE\n"
          ]
        }
      ]
    },
    {
      "cell_type": "code",
      "source": [
        "from spacy import displacy\n",
        "doc=nlp(u'ten years from now make sure you can say u chose your life and u didnt settle for it :)')\n",
        "displacy.render(doc,style='dep',jupyter=True, options={'distance':110})"
      ],
      "metadata": {
        "colab": {
          "base_uri": "https://localhost:8080/",
          "height": 398
        },
        "id": "6UPfE47BoNQk",
        "outputId": "854056bc-0589-4481-aec6-632ece05d1c4"
      },
      "execution_count": 61,
      "outputs": [
        {
          "output_type": "display_data",
          "data": {
            "text/plain": [
              "<IPython.core.display.HTML object>"
            ],
            "text/html": [
              "<span class=\"tex2jax_ignore\"><svg xmlns=\"http://www.w3.org/2000/svg\" xmlns:xlink=\"http://www.w3.org/1999/xlink\" xml:lang=\"en\" id=\"b2e5a77612ef481899e1959b18b7c90e-0\" class=\"displacy\" width=\"2250\" height=\"357.0\" direction=\"ltr\" style=\"max-width: none; height: 357.0px; color: #000000; background: #ffffff; font-family: Arial; direction: ltr\">\n",
              "<text class=\"displacy-token\" fill=\"currentColor\" text-anchor=\"middle\" y=\"267.0\">\n",
              "    <tspan class=\"displacy-word\" fill=\"currentColor\" x=\"50\">ten</tspan>\n",
              "    <tspan class=\"displacy-tag\" dy=\"2em\" fill=\"currentColor\" x=\"50\">NUM</tspan>\n",
              "</text>\n",
              "\n",
              "<text class=\"displacy-token\" fill=\"currentColor\" text-anchor=\"middle\" y=\"267.0\">\n",
              "    <tspan class=\"displacy-word\" fill=\"currentColor\" x=\"160\">years</tspan>\n",
              "    <tspan class=\"displacy-tag\" dy=\"2em\" fill=\"currentColor\" x=\"160\">NOUN</tspan>\n",
              "</text>\n",
              "\n",
              "<text class=\"displacy-token\" fill=\"currentColor\" text-anchor=\"middle\" y=\"267.0\">\n",
              "    <tspan class=\"displacy-word\" fill=\"currentColor\" x=\"270\">from</tspan>\n",
              "    <tspan class=\"displacy-tag\" dy=\"2em\" fill=\"currentColor\" x=\"270\">ADP</tspan>\n",
              "</text>\n",
              "\n",
              "<text class=\"displacy-token\" fill=\"currentColor\" text-anchor=\"middle\" y=\"267.0\">\n",
              "    <tspan class=\"displacy-word\" fill=\"currentColor\" x=\"380\">now</tspan>\n",
              "    <tspan class=\"displacy-tag\" dy=\"2em\" fill=\"currentColor\" x=\"380\">ADV</tspan>\n",
              "</text>\n",
              "\n",
              "<text class=\"displacy-token\" fill=\"currentColor\" text-anchor=\"middle\" y=\"267.0\">\n",
              "    <tspan class=\"displacy-word\" fill=\"currentColor\" x=\"490\">make</tspan>\n",
              "    <tspan class=\"displacy-tag\" dy=\"2em\" fill=\"currentColor\" x=\"490\">VERB</tspan>\n",
              "</text>\n",
              "\n",
              "<text class=\"displacy-token\" fill=\"currentColor\" text-anchor=\"middle\" y=\"267.0\">\n",
              "    <tspan class=\"displacy-word\" fill=\"currentColor\" x=\"600\">sure</tspan>\n",
              "    <tspan class=\"displacy-tag\" dy=\"2em\" fill=\"currentColor\" x=\"600\">ADJ</tspan>\n",
              "</text>\n",
              "\n",
              "<text class=\"displacy-token\" fill=\"currentColor\" text-anchor=\"middle\" y=\"267.0\">\n",
              "    <tspan class=\"displacy-word\" fill=\"currentColor\" x=\"710\">you</tspan>\n",
              "    <tspan class=\"displacy-tag\" dy=\"2em\" fill=\"currentColor\" x=\"710\">PRON</tspan>\n",
              "</text>\n",
              "\n",
              "<text class=\"displacy-token\" fill=\"currentColor\" text-anchor=\"middle\" y=\"267.0\">\n",
              "    <tspan class=\"displacy-word\" fill=\"currentColor\" x=\"820\">can</tspan>\n",
              "    <tspan class=\"displacy-tag\" dy=\"2em\" fill=\"currentColor\" x=\"820\">AUX</tspan>\n",
              "</text>\n",
              "\n",
              "<text class=\"displacy-token\" fill=\"currentColor\" text-anchor=\"middle\" y=\"267.0\">\n",
              "    <tspan class=\"displacy-word\" fill=\"currentColor\" x=\"930\">say</tspan>\n",
              "    <tspan class=\"displacy-tag\" dy=\"2em\" fill=\"currentColor\" x=\"930\">VERB</tspan>\n",
              "</text>\n",
              "\n",
              "<text class=\"displacy-token\" fill=\"currentColor\" text-anchor=\"middle\" y=\"267.0\">\n",
              "    <tspan class=\"displacy-word\" fill=\"currentColor\" x=\"1040\">u</tspan>\n",
              "    <tspan class=\"displacy-tag\" dy=\"2em\" fill=\"currentColor\" x=\"1040\">PRON</tspan>\n",
              "</text>\n",
              "\n",
              "<text class=\"displacy-token\" fill=\"currentColor\" text-anchor=\"middle\" y=\"267.0\">\n",
              "    <tspan class=\"displacy-word\" fill=\"currentColor\" x=\"1150\">chose</tspan>\n",
              "    <tspan class=\"displacy-tag\" dy=\"2em\" fill=\"currentColor\" x=\"1150\">VERB</tspan>\n",
              "</text>\n",
              "\n",
              "<text class=\"displacy-token\" fill=\"currentColor\" text-anchor=\"middle\" y=\"267.0\">\n",
              "    <tspan class=\"displacy-word\" fill=\"currentColor\" x=\"1260\">your</tspan>\n",
              "    <tspan class=\"displacy-tag\" dy=\"2em\" fill=\"currentColor\" x=\"1260\">PRON</tspan>\n",
              "</text>\n",
              "\n",
              "<text class=\"displacy-token\" fill=\"currentColor\" text-anchor=\"middle\" y=\"267.0\">\n",
              "    <tspan class=\"displacy-word\" fill=\"currentColor\" x=\"1370\">life</tspan>\n",
              "    <tspan class=\"displacy-tag\" dy=\"2em\" fill=\"currentColor\" x=\"1370\">NOUN</tspan>\n",
              "</text>\n",
              "\n",
              "<text class=\"displacy-token\" fill=\"currentColor\" text-anchor=\"middle\" y=\"267.0\">\n",
              "    <tspan class=\"displacy-word\" fill=\"currentColor\" x=\"1480\">and</tspan>\n",
              "    <tspan class=\"displacy-tag\" dy=\"2em\" fill=\"currentColor\" x=\"1480\">CCONJ</tspan>\n",
              "</text>\n",
              "\n",
              "<text class=\"displacy-token\" fill=\"currentColor\" text-anchor=\"middle\" y=\"267.0\">\n",
              "    <tspan class=\"displacy-word\" fill=\"currentColor\" x=\"1590\">u</tspan>\n",
              "    <tspan class=\"displacy-tag\" dy=\"2em\" fill=\"currentColor\" x=\"1590\">PROPN</tspan>\n",
              "</text>\n",
              "\n",
              "<text class=\"displacy-token\" fill=\"currentColor\" text-anchor=\"middle\" y=\"267.0\">\n",
              "    <tspan class=\"displacy-word\" fill=\"currentColor\" x=\"1700\">did</tspan>\n",
              "    <tspan class=\"displacy-tag\" dy=\"2em\" fill=\"currentColor\" x=\"1700\">AUX</tspan>\n",
              "</text>\n",
              "\n",
              "<text class=\"displacy-token\" fill=\"currentColor\" text-anchor=\"middle\" y=\"267.0\">\n",
              "    <tspan class=\"displacy-word\" fill=\"currentColor\" x=\"1810\">nt</tspan>\n",
              "    <tspan class=\"displacy-tag\" dy=\"2em\" fill=\"currentColor\" x=\"1810\">PART</tspan>\n",
              "</text>\n",
              "\n",
              "<text class=\"displacy-token\" fill=\"currentColor\" text-anchor=\"middle\" y=\"267.0\">\n",
              "    <tspan class=\"displacy-word\" fill=\"currentColor\" x=\"1920\">settle</tspan>\n",
              "    <tspan class=\"displacy-tag\" dy=\"2em\" fill=\"currentColor\" x=\"1920\">VERB</tspan>\n",
              "</text>\n",
              "\n",
              "<text class=\"displacy-token\" fill=\"currentColor\" text-anchor=\"middle\" y=\"267.0\">\n",
              "    <tspan class=\"displacy-word\" fill=\"currentColor\" x=\"2030\">for</tspan>\n",
              "    <tspan class=\"displacy-tag\" dy=\"2em\" fill=\"currentColor\" x=\"2030\">ADP</tspan>\n",
              "</text>\n",
              "\n",
              "<text class=\"displacy-token\" fill=\"currentColor\" text-anchor=\"middle\" y=\"267.0\">\n",
              "    <tspan class=\"displacy-word\" fill=\"currentColor\" x=\"2140\">it :)</tspan>\n",
              "    <tspan class=\"displacy-tag\" dy=\"2em\" fill=\"currentColor\" x=\"2140\">PRON</tspan>\n",
              "</text>\n",
              "\n",
              "<g class=\"displacy-arrow\">\n",
              "    <path class=\"displacy-arc\" id=\"arrow-b2e5a77612ef481899e1959b18b7c90e-0-0\" stroke-width=\"2px\" d=\"M70,222.0 C70,167.0 145.0,167.0 145.0,222.0\" fill=\"none\" stroke=\"currentColor\"/>\n",
              "    <text dy=\"1.25em\" style=\"font-size: 0.8em; letter-spacing: 1px\">\n",
              "        <textPath xlink:href=\"#arrow-b2e5a77612ef481899e1959b18b7c90e-0-0\" class=\"displacy-label\" startOffset=\"50%\" side=\"left\" fill=\"currentColor\" text-anchor=\"middle\">nummod</textPath>\n",
              "    </text>\n",
              "    <path class=\"displacy-arrowhead\" d=\"M70,224.0 L62,212.0 78,212.0\" fill=\"currentColor\"/>\n",
              "</g>\n",
              "\n",
              "<g class=\"displacy-arrow\">\n",
              "    <path class=\"displacy-arc\" id=\"arrow-b2e5a77612ef481899e1959b18b7c90e-0-1\" stroke-width=\"2px\" d=\"M180,222.0 C180,112.0 480.0,112.0 480.0,222.0\" fill=\"none\" stroke=\"currentColor\"/>\n",
              "    <text dy=\"1.25em\" style=\"font-size: 0.8em; letter-spacing: 1px\">\n",
              "        <textPath xlink:href=\"#arrow-b2e5a77612ef481899e1959b18b7c90e-0-1\" class=\"displacy-label\" startOffset=\"50%\" side=\"left\" fill=\"currentColor\" text-anchor=\"middle\">npadvmod</textPath>\n",
              "    </text>\n",
              "    <path class=\"displacy-arrowhead\" d=\"M180,224.0 L172,212.0 188,212.0\" fill=\"currentColor\"/>\n",
              "</g>\n",
              "\n",
              "<g class=\"displacy-arrow\">\n",
              "    <path class=\"displacy-arc\" id=\"arrow-b2e5a77612ef481899e1959b18b7c90e-0-2\" stroke-width=\"2px\" d=\"M180,222.0 C180,167.0 255.0,167.0 255.0,222.0\" fill=\"none\" stroke=\"currentColor\"/>\n",
              "    <text dy=\"1.25em\" style=\"font-size: 0.8em; letter-spacing: 1px\">\n",
              "        <textPath xlink:href=\"#arrow-b2e5a77612ef481899e1959b18b7c90e-0-2\" class=\"displacy-label\" startOffset=\"50%\" side=\"left\" fill=\"currentColor\" text-anchor=\"middle\">prep</textPath>\n",
              "    </text>\n",
              "    <path class=\"displacy-arrowhead\" d=\"M255.0,224.0 L263.0,212.0 247.0,212.0\" fill=\"currentColor\"/>\n",
              "</g>\n",
              "\n",
              "<g class=\"displacy-arrow\">\n",
              "    <path class=\"displacy-arc\" id=\"arrow-b2e5a77612ef481899e1959b18b7c90e-0-3\" stroke-width=\"2px\" d=\"M290,222.0 C290,167.0 365.0,167.0 365.0,222.0\" fill=\"none\" stroke=\"currentColor\"/>\n",
              "    <text dy=\"1.25em\" style=\"font-size: 0.8em; letter-spacing: 1px\">\n",
              "        <textPath xlink:href=\"#arrow-b2e5a77612ef481899e1959b18b7c90e-0-3\" class=\"displacy-label\" startOffset=\"50%\" side=\"left\" fill=\"currentColor\" text-anchor=\"middle\">pcomp</textPath>\n",
              "    </text>\n",
              "    <path class=\"displacy-arrowhead\" d=\"M365.0,224.0 L373.0,212.0 357.0,212.0\" fill=\"currentColor\"/>\n",
              "</g>\n",
              "\n",
              "<g class=\"displacy-arrow\">\n",
              "    <path class=\"displacy-arc\" id=\"arrow-b2e5a77612ef481899e1959b18b7c90e-0-4\" stroke-width=\"2px\" d=\"M510,222.0 C510,167.0 585.0,167.0 585.0,222.0\" fill=\"none\" stroke=\"currentColor\"/>\n",
              "    <text dy=\"1.25em\" style=\"font-size: 0.8em; letter-spacing: 1px\">\n",
              "        <textPath xlink:href=\"#arrow-b2e5a77612ef481899e1959b18b7c90e-0-4\" class=\"displacy-label\" startOffset=\"50%\" side=\"left\" fill=\"currentColor\" text-anchor=\"middle\">ccomp</textPath>\n",
              "    </text>\n",
              "    <path class=\"displacy-arrowhead\" d=\"M585.0,224.0 L593.0,212.0 577.0,212.0\" fill=\"currentColor\"/>\n",
              "</g>\n",
              "\n",
              "<g class=\"displacy-arrow\">\n",
              "    <path class=\"displacy-arc\" id=\"arrow-b2e5a77612ef481899e1959b18b7c90e-0-5\" stroke-width=\"2px\" d=\"M730,222.0 C730,112.0 920.0,112.0 920.0,222.0\" fill=\"none\" stroke=\"currentColor\"/>\n",
              "    <text dy=\"1.25em\" style=\"font-size: 0.8em; letter-spacing: 1px\">\n",
              "        <textPath xlink:href=\"#arrow-b2e5a77612ef481899e1959b18b7c90e-0-5\" class=\"displacy-label\" startOffset=\"50%\" side=\"left\" fill=\"currentColor\" text-anchor=\"middle\">nsubj</textPath>\n",
              "    </text>\n",
              "    <path class=\"displacy-arrowhead\" d=\"M730,224.0 L722,212.0 738,212.0\" fill=\"currentColor\"/>\n",
              "</g>\n",
              "\n",
              "<g class=\"displacy-arrow\">\n",
              "    <path class=\"displacy-arc\" id=\"arrow-b2e5a77612ef481899e1959b18b7c90e-0-6\" stroke-width=\"2px\" d=\"M840,222.0 C840,167.0 915.0,167.0 915.0,222.0\" fill=\"none\" stroke=\"currentColor\"/>\n",
              "    <text dy=\"1.25em\" style=\"font-size: 0.8em; letter-spacing: 1px\">\n",
              "        <textPath xlink:href=\"#arrow-b2e5a77612ef481899e1959b18b7c90e-0-6\" class=\"displacy-label\" startOffset=\"50%\" side=\"left\" fill=\"currentColor\" text-anchor=\"middle\">aux</textPath>\n",
              "    </text>\n",
              "    <path class=\"displacy-arrowhead\" d=\"M840,224.0 L832,212.0 848,212.0\" fill=\"currentColor\"/>\n",
              "</g>\n",
              "\n",
              "<g class=\"displacy-arrow\">\n",
              "    <path class=\"displacy-arc\" id=\"arrow-b2e5a77612ef481899e1959b18b7c90e-0-7\" stroke-width=\"2px\" d=\"M620,222.0 C620,57.0 925.0,57.0 925.0,222.0\" fill=\"none\" stroke=\"currentColor\"/>\n",
              "    <text dy=\"1.25em\" style=\"font-size: 0.8em; letter-spacing: 1px\">\n",
              "        <textPath xlink:href=\"#arrow-b2e5a77612ef481899e1959b18b7c90e-0-7\" class=\"displacy-label\" startOffset=\"50%\" side=\"left\" fill=\"currentColor\" text-anchor=\"middle\">ccomp</textPath>\n",
              "    </text>\n",
              "    <path class=\"displacy-arrowhead\" d=\"M925.0,224.0 L933.0,212.0 917.0,212.0\" fill=\"currentColor\"/>\n",
              "</g>\n",
              "\n",
              "<g class=\"displacy-arrow\">\n",
              "    <path class=\"displacy-arc\" id=\"arrow-b2e5a77612ef481899e1959b18b7c90e-0-8\" stroke-width=\"2px\" d=\"M1060,222.0 C1060,167.0 1135.0,167.0 1135.0,222.0\" fill=\"none\" stroke=\"currentColor\"/>\n",
              "    <text dy=\"1.25em\" style=\"font-size: 0.8em; letter-spacing: 1px\">\n",
              "        <textPath xlink:href=\"#arrow-b2e5a77612ef481899e1959b18b7c90e-0-8\" class=\"displacy-label\" startOffset=\"50%\" side=\"left\" fill=\"currentColor\" text-anchor=\"middle\">nsubj</textPath>\n",
              "    </text>\n",
              "    <path class=\"displacy-arrowhead\" d=\"M1060,224.0 L1052,212.0 1068,212.0\" fill=\"currentColor\"/>\n",
              "</g>\n",
              "\n",
              "<g class=\"displacy-arrow\">\n",
              "    <path class=\"displacy-arc\" id=\"arrow-b2e5a77612ef481899e1959b18b7c90e-0-9\" stroke-width=\"2px\" d=\"M950,222.0 C950,112.0 1140.0,112.0 1140.0,222.0\" fill=\"none\" stroke=\"currentColor\"/>\n",
              "    <text dy=\"1.25em\" style=\"font-size: 0.8em; letter-spacing: 1px\">\n",
              "        <textPath xlink:href=\"#arrow-b2e5a77612ef481899e1959b18b7c90e-0-9\" class=\"displacy-label\" startOffset=\"50%\" side=\"left\" fill=\"currentColor\" text-anchor=\"middle\">ccomp</textPath>\n",
              "    </text>\n",
              "    <path class=\"displacy-arrowhead\" d=\"M1140.0,224.0 L1148.0,212.0 1132.0,212.0\" fill=\"currentColor\"/>\n",
              "</g>\n",
              "\n",
              "<g class=\"displacy-arrow\">\n",
              "    <path class=\"displacy-arc\" id=\"arrow-b2e5a77612ef481899e1959b18b7c90e-0-10\" stroke-width=\"2px\" d=\"M1280,222.0 C1280,167.0 1355.0,167.0 1355.0,222.0\" fill=\"none\" stroke=\"currentColor\"/>\n",
              "    <text dy=\"1.25em\" style=\"font-size: 0.8em; letter-spacing: 1px\">\n",
              "        <textPath xlink:href=\"#arrow-b2e5a77612ef481899e1959b18b7c90e-0-10\" class=\"displacy-label\" startOffset=\"50%\" side=\"left\" fill=\"currentColor\" text-anchor=\"middle\">poss</textPath>\n",
              "    </text>\n",
              "    <path class=\"displacy-arrowhead\" d=\"M1280,224.0 L1272,212.0 1288,212.0\" fill=\"currentColor\"/>\n",
              "</g>\n",
              "\n",
              "<g class=\"displacy-arrow\">\n",
              "    <path class=\"displacy-arc\" id=\"arrow-b2e5a77612ef481899e1959b18b7c90e-0-11\" stroke-width=\"2px\" d=\"M1170,222.0 C1170,112.0 1360.0,112.0 1360.0,222.0\" fill=\"none\" stroke=\"currentColor\"/>\n",
              "    <text dy=\"1.25em\" style=\"font-size: 0.8em; letter-spacing: 1px\">\n",
              "        <textPath xlink:href=\"#arrow-b2e5a77612ef481899e1959b18b7c90e-0-11\" class=\"displacy-label\" startOffset=\"50%\" side=\"left\" fill=\"currentColor\" text-anchor=\"middle\">dobj</textPath>\n",
              "    </text>\n",
              "    <path class=\"displacy-arrowhead\" d=\"M1360.0,224.0 L1368.0,212.0 1352.0,212.0\" fill=\"currentColor\"/>\n",
              "</g>\n",
              "\n",
              "<g class=\"displacy-arrow\">\n",
              "    <path class=\"displacy-arc\" id=\"arrow-b2e5a77612ef481899e1959b18b7c90e-0-12\" stroke-width=\"2px\" d=\"M1170,222.0 C1170,57.0 1475.0,57.0 1475.0,222.0\" fill=\"none\" stroke=\"currentColor\"/>\n",
              "    <text dy=\"1.25em\" style=\"font-size: 0.8em; letter-spacing: 1px\">\n",
              "        <textPath xlink:href=\"#arrow-b2e5a77612ef481899e1959b18b7c90e-0-12\" class=\"displacy-label\" startOffset=\"50%\" side=\"left\" fill=\"currentColor\" text-anchor=\"middle\">cc</textPath>\n",
              "    </text>\n",
              "    <path class=\"displacy-arrowhead\" d=\"M1475.0,224.0 L1483.0,212.0 1467.0,212.0\" fill=\"currentColor\"/>\n",
              "</g>\n",
              "\n",
              "<g class=\"displacy-arrow\">\n",
              "    <path class=\"displacy-arc\" id=\"arrow-b2e5a77612ef481899e1959b18b7c90e-0-13\" stroke-width=\"2px\" d=\"M1610,222.0 C1610,57.0 1915.0,57.0 1915.0,222.0\" fill=\"none\" stroke=\"currentColor\"/>\n",
              "    <text dy=\"1.25em\" style=\"font-size: 0.8em; letter-spacing: 1px\">\n",
              "        <textPath xlink:href=\"#arrow-b2e5a77612ef481899e1959b18b7c90e-0-13\" class=\"displacy-label\" startOffset=\"50%\" side=\"left\" fill=\"currentColor\" text-anchor=\"middle\">nsubj</textPath>\n",
              "    </text>\n",
              "    <path class=\"displacy-arrowhead\" d=\"M1610,224.0 L1602,212.0 1618,212.0\" fill=\"currentColor\"/>\n",
              "</g>\n",
              "\n",
              "<g class=\"displacy-arrow\">\n",
              "    <path class=\"displacy-arc\" id=\"arrow-b2e5a77612ef481899e1959b18b7c90e-0-14\" stroke-width=\"2px\" d=\"M1720,222.0 C1720,112.0 1910.0,112.0 1910.0,222.0\" fill=\"none\" stroke=\"currentColor\"/>\n",
              "    <text dy=\"1.25em\" style=\"font-size: 0.8em; letter-spacing: 1px\">\n",
              "        <textPath xlink:href=\"#arrow-b2e5a77612ef481899e1959b18b7c90e-0-14\" class=\"displacy-label\" startOffset=\"50%\" side=\"left\" fill=\"currentColor\" text-anchor=\"middle\">aux</textPath>\n",
              "    </text>\n",
              "    <path class=\"displacy-arrowhead\" d=\"M1720,224.0 L1712,212.0 1728,212.0\" fill=\"currentColor\"/>\n",
              "</g>\n",
              "\n",
              "<g class=\"displacy-arrow\">\n",
              "    <path class=\"displacy-arc\" id=\"arrow-b2e5a77612ef481899e1959b18b7c90e-0-15\" stroke-width=\"2px\" d=\"M1830,222.0 C1830,167.0 1905.0,167.0 1905.0,222.0\" fill=\"none\" stroke=\"currentColor\"/>\n",
              "    <text dy=\"1.25em\" style=\"font-size: 0.8em; letter-spacing: 1px\">\n",
              "        <textPath xlink:href=\"#arrow-b2e5a77612ef481899e1959b18b7c90e-0-15\" class=\"displacy-label\" startOffset=\"50%\" side=\"left\" fill=\"currentColor\" text-anchor=\"middle\">neg</textPath>\n",
              "    </text>\n",
              "    <path class=\"displacy-arrowhead\" d=\"M1830,224.0 L1822,212.0 1838,212.0\" fill=\"currentColor\"/>\n",
              "</g>\n",
              "\n",
              "<g class=\"displacy-arrow\">\n",
              "    <path class=\"displacy-arc\" id=\"arrow-b2e5a77612ef481899e1959b18b7c90e-0-16\" stroke-width=\"2px\" d=\"M1170,222.0 C1170,2.0 1920.0,2.0 1920.0,222.0\" fill=\"none\" stroke=\"currentColor\"/>\n",
              "    <text dy=\"1.25em\" style=\"font-size: 0.8em; letter-spacing: 1px\">\n",
              "        <textPath xlink:href=\"#arrow-b2e5a77612ef481899e1959b18b7c90e-0-16\" class=\"displacy-label\" startOffset=\"50%\" side=\"left\" fill=\"currentColor\" text-anchor=\"middle\">conj</textPath>\n",
              "    </text>\n",
              "    <path class=\"displacy-arrowhead\" d=\"M1920.0,224.0 L1928.0,212.0 1912.0,212.0\" fill=\"currentColor\"/>\n",
              "</g>\n",
              "\n",
              "<g class=\"displacy-arrow\">\n",
              "    <path class=\"displacy-arc\" id=\"arrow-b2e5a77612ef481899e1959b18b7c90e-0-17\" stroke-width=\"2px\" d=\"M1940,222.0 C1940,167.0 2015.0,167.0 2015.0,222.0\" fill=\"none\" stroke=\"currentColor\"/>\n",
              "    <text dy=\"1.25em\" style=\"font-size: 0.8em; letter-spacing: 1px\">\n",
              "        <textPath xlink:href=\"#arrow-b2e5a77612ef481899e1959b18b7c90e-0-17\" class=\"displacy-label\" startOffset=\"50%\" side=\"left\" fill=\"currentColor\" text-anchor=\"middle\">prep</textPath>\n",
              "    </text>\n",
              "    <path class=\"displacy-arrowhead\" d=\"M2015.0,224.0 L2023.0,212.0 2007.0,212.0\" fill=\"currentColor\"/>\n",
              "</g>\n",
              "\n",
              "<g class=\"displacy-arrow\">\n",
              "    <path class=\"displacy-arc\" id=\"arrow-b2e5a77612ef481899e1959b18b7c90e-0-18\" stroke-width=\"2px\" d=\"M2050,222.0 C2050,167.0 2125.0,167.0 2125.0,222.0\" fill=\"none\" stroke=\"currentColor\"/>\n",
              "    <text dy=\"1.25em\" style=\"font-size: 0.8em; letter-spacing: 1px\">\n",
              "        <textPath xlink:href=\"#arrow-b2e5a77612ef481899e1959b18b7c90e-0-18\" class=\"displacy-label\" startOffset=\"50%\" side=\"left\" fill=\"currentColor\" text-anchor=\"middle\">pobj</textPath>\n",
              "    </text>\n",
              "    <path class=\"displacy-arrowhead\" d=\"M2125.0,224.0 L2133.0,212.0 2117.0,212.0\" fill=\"currentColor\"/>\n",
              "</g>\n",
              "</svg></span>"
            ]
          },
          "metadata": {}
        }
      ]
    }
  ],
  "metadata": {
    "colab": {
      "provenance": []
    },
    "kernelspec": {
      "display_name": "Python 3",
      "name": "python3"
    },
    "language_info": {
      "name": "python"
    }
  },
  "nbformat": 4,
  "nbformat_minor": 0
}